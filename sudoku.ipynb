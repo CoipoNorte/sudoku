{
 "cells": [
  {
   "cell_type": "markdown",
   "id": "d66ada58",
   "metadata": {},
   "source": [
    "# Sudoku de Consola en Python\n",
    "\n",
    "Este cuaderno describe paso a paso como se creo un juego de Sudoku jugable en la consola, usando colores ANSI para resaltar los diferentes elementos del tablero.\n",
    "\n",
    "---\n",
    "\n",
    "## 1. Definición de códigos de color\n",
    "\n",
    "Primero, definimos una clase con las secuencias de escape ANSI para colorear la salida en consola. Usaremos:\n",
    "\n",
    "- Verde para los números originales del tablero.\n",
    "- Azul para los números que ingresa el usuario.\n",
    "- Amarillo para las pistas.\n",
    "- Gris para las casillas vacías."
   ]
  },
  {
   "cell_type": "code",
   "execution_count": 2,
   "id": "db146201",
   "metadata": {},
   "outputs": [],
   "source": [
    "from colorama import init\n",
    "init(autoreset=True)\n",
    "\n",
    "class Color:\n",
    "    RESET  = \"\\033[0m\"\n",
    "    GREEN  = \"\\033[92m\"  # Números originales\n",
    "    BLUE   = \"\\033[94m\"  # Números del usuario\n",
    "    YELLOW = \"\\033[93m\"  # Pistas\n",
    "    GRAY   = \"\\033[90m\"  # Casillas vacías"
   ]
  },
  {
   "cell_type": "markdown",
   "id": "beb8e966",
   "metadata": {},
   "source": [
    "---\n",
    "\n",
    "## 2. Creación del tablero vacío\n",
    "\n",
    "Implementamos una función que retorna una matriz 9x9 inicializada en ceros, representando el tablero vacío de Sudoku."
   ]
  },
  {
   "cell_type": "code",
   "execution_count": 3,
   "id": "6e0c108b",
   "metadata": {},
   "outputs": [],
   "source": [
    "def crear_tablero():\n",
    "    \"\"\"\n",
    "    Devuelve un tablero 9×9 inicializado en 0.\n",
    "    \"\"\"\n",
    "    return [[0 for _ in range(9)] for _ in range(9)]"
   ]
  },
  {
   "cell_type": "markdown",
   "id": "1b674da8",
   "metadata": {},
   "source": [
    "---\n",
    "\n",
    "## 3. Verificación de jugadas válidas\n",
    "\n",
    "Creamos una función que verifica si un número puede colocarse en una posición dada del tablero, cumpliendo las reglas de Sudoku:\n",
    "\n",
    "- El número no debe estar en la misma fila.\n",
    "- El número no debe estar en la misma columna.\n",
    "- El número no debe estar en el mismo subcuadro 3x3."
   ]
  },
  {
   "cell_type": "code",
   "execution_count": 5,
   "id": "4d4aaacc",
   "metadata": {},
   "outputs": [],
   "source": [
    "def es_valido(tablero, fila, col, num):\n",
    "    # Comprueba fila y columna\n",
    "    for i in range(9):\n",
    "        if tablero[fila][i] == num or tablero[i][col] == num:\n",
    "            return False\n",
    "\n",
    "    # Determina el inicio del bloque 3×3\n",
    "    inicio_fila = 3 * (fila // 3)\n",
    "    inicio_col  = 3 * (col // 3)\n",
    "\n",
    "    # Comprueba el bloque 3×3\n",
    "    for i in range(inicio_fila, inicio_fila + 3):\n",
    "        for j in range(inicio_col, inicio_col + 3):\n",
    "            if tablero[i][j] == num:\n",
    "                return False\n",
    "\n",
    "    return True"
   ]
  },
  {
   "cell_type": "markdown",
   "id": "c64f8a99",
   "metadata": {},
   "source": [
    "---\n",
    "\n",
    "## 4. Generación de la solución completa (backtracking)\n",
    "\n",
    "Desarrollamos una función recursiva que llena el tablero usando backtracking, probando números aleatorios en cada celda vacía hasta obtener una solución válida."
   ]
  },
  {
   "cell_type": "code",
   "execution_count": 6,
   "id": "3412d1b9",
   "metadata": {},
   "outputs": [],
   "source": [
    "import random\n",
    "\n",
    "def generar_solucion(tablero):\n",
    "    for fila in range(9):\n",
    "        for col in range(9):\n",
    "            if tablero[fila][col] == 0:\n",
    "                nums = list(range(1, 10))\n",
    "                random.shuffle(nums)\n",
    "                for num in nums:\n",
    "                    if es_valido(tablero, fila, col, num):\n",
    "                        tablero[fila][col] = num\n",
    "                        if generar_solucion(tablero):\n",
    "                            return True\n",
    "                        tablero[fila][col] = 0\n",
    "                return False\n",
    "    return True"
   ]
  },
  {
   "cell_type": "markdown",
   "id": "b131ab0f",
   "metadata": {},
   "source": [
    "---\n",
    "\n",
    "## 5. Ocultación de celdas para el juego\n",
    "\n",
    "A partir de la solución completa, eliminamos aleatoriamente una cantidad de celdas para crear el tablero que el usuario debe resolver. Puedes ajustar la cantidad de celdas vacías para cambiar la dificultad."
   ]
  },
  {
   "cell_type": "code",
   "execution_count": 10,
   "id": "ddf25dc2",
   "metadata": {},
   "outputs": [],
   "source": [
    "def generar_juego(tablero, cantidad_vacia=40):\n",
    "    \"\"\"\n",
    "    Devuelve un tablero con 'cantidad_vacia' celdas puestas a 0,\n",
    "    garantizando que sea humanamente resoluble con pistas.\n",
    "    \"\"\"\n",
    "    juego = [fila[:] for fila in tablero]  # Copia profunda\n",
    "    vacias = 0\n",
    "    while vacias < cantidad_vacia:\n",
    "        fila, col = random.randint(0, 8), random.randint(0, 8)\n",
    "        if juego[fila][col] != 0:\n",
    "            juego[fila][col] = 0\n",
    "            vacias += 1\n",
    "    return juego"
   ]
  },
  {
   "cell_type": "markdown",
   "id": "07b349b6",
   "metadata": {},
   "source": [
    "---\n",
    "\n",
    "## 6. Impresión del tablero con colores\n",
    "\n",
    "Creamos una función que imprime el tablero en consola, usando los colores definidos para diferenciar números originales, del usuario, pistas y vacíos. También muestra la numeración de filas y columnas para facilitar la interacción."
   ]
  },
  {
   "cell_type": "code",
   "execution_count": 11,
   "id": "28f41148",
   "metadata": {},
   "outputs": [],
   "source": [
    "def imprimir_tablero(tablero, originales):\n",
    "    # Cabecera de columnas\n",
    "    print(\"\\n  \", \" \".join(str(i+1) for i in range(9)))\n",
    "    for i, fila in enumerate(tablero):\n",
    "        print(i+1, end=\" \")\n",
    "        for j, val in enumerate(fila):\n",
    "            if val == 0:\n",
    "                # Punto gris para vacío\n",
    "                print(f\"{Color.GRAY}·{Color.RESET}\", end=\" \")\n",
    "            elif originales[i][j] == -1:\n",
    "                # Pista en amarillo\n",
    "                print(f\"{Color.YELLOW}{val}{Color.RESET}\", end=\" \")\n",
    "            elif originales[i][j] != 0:\n",
    "                # Número original en verde\n",
    "                print(f\"{Color.GREEN}{val}{Color.RESET}\", end=\" \")\n",
    "            else:\n",
    "                # Número ingresado en azul\n",
    "                print(f\"{Color.BLUE}{val}{Color.RESET}\", end=\" \")\n",
    "        print()"
   ]
  },
  {
   "cell_type": "markdown",
   "id": "9374f47e",
   "metadata": {},
   "source": [
    "---\n",
    "\n",
    "## 7. Pistas aleatorias\n",
    "\n",
    "Desarrollamos una función que revela una celda vacía al azar como pista, marcándola con un color especial y notificando al usuario."
   ]
  },
  {
   "cell_type": "code",
   "execution_count": 12,
   "id": "dc73bbeb",
   "metadata": {},
   "outputs": [],
   "source": [
    "def dar_pista(tablero, solucion, originales):\n",
    "    opciones = [\n",
    "        (i, j)\n",
    "        for i in range(9)\n",
    "        for j in range(9)\n",
    "        if tablero[i][j] == 0\n",
    "    ]\n",
    "    if not opciones:\n",
    "        print(f\"{Color.YELLOW}No hay más casillas vacías.{Color.RESET}\")\n",
    "        return\n",
    "\n",
    "    i, j = random.choice(opciones)\n",
    "    tablero[i][j]    = solucion[i][j]\n",
    "    originales[i][j] = -1  # Marcamos como pista\n",
    "\n",
    "    print(\n",
    "        f\"{Color.YELLOW}Pista colocada en fila {i+1}, columna {j+1}.{Color.RESET}\"\n",
    "    )"
   ]
  },
  {
   "cell_type": "markdown",
   "id": "09e4c1a0",
   "metadata": {},
   "source": [
    "---\n",
    "\n",
    "## 8. Bucle principal de juego\n",
    "\n",
    "Implementamos la función principal que gestiona la interacción con el usuario: inserción de números, solicitud de pistas, impresión del tablero y finalización del juego."
   ]
  },
  {
   "cell_type": "code",
   "execution_count": null,
   "id": "c639f2ba",
   "metadata": {},
   "outputs": [],
   "source": [
    "def jugar():\n",
    "    # Inicialización\n",
    "    solucion   = crear_tablero()\n",
    "    generar_solucion(solucion)\n",
    "\n",
    "    juego      = generar_juego(solucion)\n",
    "    originales = [fila[:] for fila in juego]\n",
    "\n",
    "    # Ciclo de juego\n",
    "    while True:\n",
    "        imprimir_tablero(juego, originales)\n",
    "        accion = input(\n",
    "            \"¿Qué deseas hacer? (insertar [fila col valor], pista, salir): \"\n",
    "        ).strip().lower()\n",
    "\n",
    "        if accion == \"salir\":\n",
    "            print(\"Gracias por jugar.\")\n",
    "            break\n",
    "\n",
    "        if accion == \"pista\":\n",
    "            dar_pista(juego, solucion, originales)\n",
    "            continue\n",
    "\n",
    "        if accion.startswith(\"insertar\"):\n",
    "            partes = accion.split()\n",
    "            if len(partes) != 4:\n",
    "                print(\"Formato: insertar fila col valor\")\n",
    "                continue\n",
    "\n",
    "            try:\n",
    "                fila, col, valor = (\n",
    "                    int(partes[1]) - 1,\n",
    "                    int(partes[2]) - 1,\n",
    "                    int(partes[3]),\n",
    "                )\n",
    "            except ValueError:\n",
    "                print(\"Fila, columna y valor deben ser números.\")\n",
    "                continue\n",
    "\n",
    "            # Validaciones\n",
    "            if (0 <= fila < 9 and 0 <= col < 9 and 1 <= valor <= 9 and\n",
    "                originales[fila][col] == 0 and\n",
    "                es_valido(juego, fila, col, valor)):\n",
    "\n",
    "                juego[fila][col] = valor\n",
    "            else:\n",
    "                print(f\"{Color.YELLOW}Movimiento inválido o celda bloqueada.{Color.RESET}\")\n",
    "        else:\n",
    "            print(\"Comando no reconocido.\")\n",
    "\n",
    "if __name__ == \"__main__\":\n",
    "    jugar()"
   ]
  }
 ],
 "metadata": {
  "kernelspec": {
   "display_name": "Python 3",
   "language": "python",
   "name": "python3"
  },
  "language_info": {
   "codemirror_mode": {
    "name": "ipython",
    "version": 3
   },
   "file_extension": ".py",
   "mimetype": "text/x-python",
   "name": "python",
   "nbconvert_exporter": "python",
   "pygments_lexer": "ipython3",
   "version": "3.13.5"
  }
 },
 "nbformat": 4,
 "nbformat_minor": 5
}
